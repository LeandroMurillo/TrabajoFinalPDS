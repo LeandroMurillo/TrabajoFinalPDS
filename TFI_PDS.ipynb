{
  "nbformat": 4,
  "nbformat_minor": 0,
  "metadata": {
    "colab": {
      "provenance": [],
      "include_colab_link": true
    },
    "kernelspec": {
      "name": "python3",
      "display_name": "Python 3"
    },
    "language_info": {
      "name": "python"
    }
  },
  "cells": [
    {
      "cell_type": "markdown",
      "metadata": {
        "id": "view-in-github",
        "colab_type": "text"
      },
      "source": [
        "<a href=\"https://colab.research.google.com/github/LeandroMurillo/TrabajoFinalPDS/blob/main/TFI_PDS.ipynb\" target=\"_parent\"><img src=\"https://colab.research.google.com/assets/colab-badge.svg\" alt=\"Open In Colab\"/></a>"
      ]
    },
    {
      "cell_type": "markdown",
      "source": [
        "**Inicialización del repositorio**"
      ],
      "metadata": {
        "id": "1-R7oxcpwJ48"
      }
    },
    {
      "cell_type": "code",
      "source": [
        "from google.colab import userdata\n",
        "import os\n",
        "\n",
        "# === CONFIGURACIÓN ===\n",
        "REPO_URL = \"https://github.com/LeandroMurillo/TrabajoFinalPDS\"\n",
        "REPO_DIR = \"/content/TrabajoFinalPDS\"\n",
        "\n",
        "# === Paso 1: Obtener token seguro desde secretos de Colab ===\n",
        "token = userdata.get('GITHUB_TOKEN')\n",
        "assert token, \"⚠️ Agregá tu token en 'Entorno de ejecución > Gestionar secretos del entorno de ejecución'.\"\n",
        "\n",
        "# === Paso 2: Clonar el repositorio si no existe ===\n",
        "if not os.path.exists(REPO_DIR):\n",
        "    os.chdir(\"/content\")\n",
        "    !git clone https://{token}@github.com/LeandroMurillo/TrabajoFinalPDS\n",
        "\n",
        "# === Paso 3: Ingresar al repo y configurar el remote para autenticación con token ===\n",
        "os.chdir(REPO_DIR)\n",
        "!git remote set-url origin https://{token}@github.com/LeandroMurillo/TrabajoFinalPDS\n",
        "\n",
        "print(\"Repositorio listo. Ya podés trabajar con Git.\")"
      ],
      "metadata": {
        "id": "hYSvTVzdokXP"
      },
      "execution_count": null,
      "outputs": []
    },
    {
      "cell_type": "markdown",
      "source": [
        "Trabajo"
      ],
      "metadata": {
        "id": "f7XddahkQajs"
      }
    },
    {
      "cell_type": "code",
      "source": [
        "# === CONFIGURACIÓN E IMPORTS ===\n",
        "\n",
        "# --- Manipulación numérica ---\n",
        "import numpy as np\n",
        "from copy import deepcopy\n",
        "import time\n",
        "\n",
        "# --- Visualización ---\n",
        "import matplotlib.pyplot as plt\n",
        "\n",
        "# --- Señales y filtros ---\n",
        "from scipy.io import loadmat\n",
        "from scipy.signal import (\n",
        "    buttord, butter, bilinear, cont2discrete,\n",
        "    freqz, freqs, find_peaks, lfilter, tf2zpk, tf2sos\n",
        ")\n",
        "from scipy.fft import fft, fftfreq, rfft, rfftfreq\n"
      ],
      "metadata": {
        "id": "KNbqjW10QcGy"
      },
      "execution_count": null,
      "outputs": []
    },
    {
      "cell_type": "code",
      "source": [
        "# === CARGA Y VISUALIZACIÓN DE SEÑALES ===\n",
        "\n",
        "# --- Parámetros generales ---\n",
        "fs = 360  # Frecuencia de muestreo en Hz\n",
        "\n",
        "# --- Ruta del archivo .mat (ajustar si es necesario) ---\n",
        "archivo_mat = \"/content/TrabajoFinalPDS/ecg_signal.mat\"\n",
        "\n",
        "# --- Carga del archivo ---\n",
        "mat_data = loadmat(archivo_mat)\n",
        "\n",
        "# --- Extracción y conversión a milivoltios ---\n",
        "senal1 = mat_data[\"ecg_signal1\"].squeeze()\n",
        "senal2 = mat_data[\"ecg_signal2\"].squeeze()\n",
        "senal3 = mat_data[\"ecg_signal3\"].squeeze()\n",
        "senales = [senal1, senal2, senal3]\n",
        "\n",
        "def graficar_senal_completa(senal, fs, titulo=\"Señal en el tiempo\"):\n",
        "    \"\"\"\n",
        "    Grafica una señal completa en el dominio del tiempo.\n",
        "    \"\"\"\n",
        "    tiempo = np.arange(len(senal)) / fs\n",
        "    plt.figure(figsize=(14, 4))\n",
        "    plt.plot(tiempo, senal, label=\"Señal completa\")\n",
        "    plt.title(titulo)\n",
        "    plt.xlabel(\"Tiempo [s]\")\n",
        "    plt.ylabel(\"Amplitud [mV]\")\n",
        "    plt.grid(True)\n",
        "    plt.xlim(0, tiempo[-1])\n",
        "    plt.xticks(np.arange(0, tiempo[-1] + 1, 1))\n",
        "    locs, _ = plt.yticks()\n",
        "    plt.yticks(locs, [f\"{val:.3f}\" for val in locs])\n",
        "    plt.legend()\n",
        "    plt.tight_layout()\n",
        "    plt.show()\n"
      ],
      "metadata": {
        "id": "BIop7uGZQiTg"
      },
      "execution_count": null,
      "outputs": []
    },
    {
      "cell_type": "code",
      "source": [
        "def graficar_fft(\n",
        "    senal,\n",
        "    fs,\n",
        "    escala='dB',\n",
        "    normalizar=False,\n",
        "    titulo=\"Espectro de Frecuencia\"\n",
        "):\n",
        "    \"\"\"\n",
        "    Grafica la FFT de una señal real con línea continua.\n",
        "\n",
        "    Parámetros:\n",
        "    - senal: array 1D con la señal a analizar.\n",
        "    - fs: frecuencia de muestreo en Hz.\n",
        "    - escala: 'dB' o 'lineal'\n",
        "    - normalizar: si True, escala el espectro para que el pico sea 0 dB o 1.\n",
        "    - titulo: título del gráfico.\n",
        "    \"\"\"\n",
        "    n = len(senal)\n",
        "    X = rfft(senal)\n",
        "    freqs = rfftfreq(n, d=1/fs)\n",
        "\n",
        "    if escala == 'dB':\n",
        "        mag = np.abs(X)\n",
        "        if normalizar:\n",
        "            mag = mag / np.max(mag)\n",
        "        Y = 20 * np.log10(mag + 1e-12)\n",
        "        ylabel = 'Magnitud [dB]'\n",
        "        ylim = (np.min(Y), 0)\n",
        "    elif escala == 'lineal':\n",
        "        Y = np.abs(X)\n",
        "        if normalizar:\n",
        "            Y = Y / np.max(Y)\n",
        "        ylabel = 'Magnitud (lineal)'\n",
        "        ylim = None\n",
        "    else:\n",
        "        raise ValueError(\"Escala debe ser 'dB' o 'lineal'.\")\n",
        "\n",
        "    df = fs / n\n",
        "    print(f\"Resolución espectral: Δf = {df:.4f} Hz\")\n",
        "\n",
        "    plt.figure(figsize=(10, 4))\n",
        "    plt.plot(freqs, Y, linewidth=1)\n",
        "    plt.xlabel('Frecuencia (Hz)')\n",
        "    plt.ylabel(ylabel)\n",
        "    plt.title(titulo)\n",
        "    plt.grid(True, which='both', linestyle='--', linewidth=0.5)\n",
        "    plt.xlim(0, fs / 2)\n",
        "    if ylim:\n",
        "        plt.ylim(*ylim)\n",
        "    plt.tight_layout()\n",
        "    plt.show()\n",
        "\n",
        "def graficar_un_ciclo(senal, fs, titulo=\"Un ciclo cardíaco (PQRST)\"):\n",
        "    \"\"\"\n",
        "    Detecta el primer pico R y grafica una ventana alrededor del ciclo completo.\n",
        "\n",
        "    Parámetros:\n",
        "    - senal: señal ECG en milivoltios.\n",
        "    - fs: frecuencia de muestreo en Hz.\n",
        "    - titulo: título del gráfico.\n",
        "    \"\"\"\n",
        "    # Detección de picos R\n",
        "    altura_minima = 0.5 * (np.max(senal) - np.min(senal)) + np.min(senal)\n",
        "    distancia_minima = int(0.25 * fs)\n",
        "    picos, _ = find_peaks(senal, height=altura_minima, distance=distancia_minima)\n",
        "\n",
        "    if len(picos) == 0:\n",
        "        print(\"No se detectaron picos R.\")\n",
        "        return\n",
        "\n",
        "    # Selección de ventana temporal alrededor del primer pico\n",
        "    centro = picos[0]\n",
        "    pre = int(0.2 * fs)   # 200 ms antes\n",
        "    post = int(0.4 * fs)  # 400 ms después\n",
        "    inicio = max(0, centro - pre)\n",
        "    fin = min(len(senal), centro + post)\n",
        "    tiempo = np.arange(inicio, fin) / fs\n",
        "\n",
        "    # Gráfica\n",
        "    plt.figure(figsize=(14, 4))\n",
        "    plt.plot(tiempo, senal[inicio:fin], label=\"Ciclo PQRST\")\n",
        "    plt.title(titulo)\n",
        "    plt.xlabel(\"Tiempo [s]\")\n",
        "    plt.ylabel(\"Amplitud [mV]\")\n",
        "    plt.grid(True)\n",
        "    plt.legend()\n",
        "    plt.tight_layout()\n",
        "    plt.show()\n",
        ""
      ],
      "metadata": {
        "id": "pttzjN7fRDQz"
      },
      "execution_count": null,
      "outputs": []
    },
    {
      "cell_type": "markdown",
      "source": [
        "Diseño de filtro pasabajos"
      ],
      "metadata": {
        "id": "fInWBEstTnW5"
      }
    },
    {
      "cell_type": "code",
      "source": [
        "def diseñar_filtro_analogico(fp, fs_rechazo, Ap, As, metodo_prewarp=False, fs=None):\n",
        "    \"\"\"\n",
        "    Diseña un filtro analógico pasa bajos de Butterworth.\n",
        "\n",
        "    Si `metodo_prewarp` es True, aplica prewarping para que sea compatible con la transformación bilineal.\n",
        "\n",
        "    Retorna: (b, a), orden del filtro, frecuencias de corte analógicas\n",
        "    \"\"\"\n",
        "    if metodo_prewarp and fs is not None:\n",
        "        wp = 2 * fs * np.tan(np.pi * fp / fs)\n",
        "        ws = 2 * fs * np.tan(np.pi * fs_rechazo / fs)\n",
        "    else:\n",
        "        wp = 2 * np.pi * fp\n",
        "        ws = 2 * np.pi * fs_rechazo\n",
        "\n",
        "    n, wn = buttord(wp, ws, Ap, As, analog=True)\n",
        "    b, a = butter(n, wn, btype='low', analog=True)\n",
        "    return b, a, n, wn\n",
        "\n",
        "def transformar_bilineal(b, a, fs):\n",
        "    \"\"\"\n",
        "    Transforma una función de transferencia analógica a digital usando el método bilineal.\n",
        "    \"\"\"\n",
        "    return bilinear(b, a, fs)\n",
        "\n",
        "def transformar_invarianza(b, a, fs):\n",
        "    \"\"\"\n",
        "    Transforma una función de transferencia analógica a digital usando la invarianza al impulso.\n",
        "    \"\"\"\n",
        "    dt = 1 / fs\n",
        "    bz, az, _ = cont2discrete((b, a), dt, method='impulse')\n",
        "    return bz.flatten(), az\n",
        "\n",
        "def calcular_frecuencias_digitales_warp(wp, ws, fs):\n",
        "    \"\"\"\n",
        "    Convierte frecuencias analógicas (rad/s) en frecuencias digitales (Hz) después del prewarping.\n",
        "    \"\"\"\n",
        "    wp = np.array(wp)\n",
        "    ws = np.array(ws)\n",
        "    fp_digital = (fs / np.pi) * np.arctan(wp / (2 * fs))\n",
        "    fs_digital = (fs / np.pi) * np.arctan(ws / (2 * fs))\n",
        "    return fp_digital, fs_digital\n"
      ],
      "metadata": {
        "id": "PNDdpL1XSxAu"
      },
      "execution_count": null,
      "outputs": []
    },
    {
      "cell_type": "code",
      "source": [
        "# === PARÁMETROS DEL FILTRO PASA BAJOS ===\n",
        "fp = 30      # Frecuencia de paso deseada [Hz]\n",
        "fb = 80      # Frecuencia de rechazo deseada [Hz]\n",
        "Ap = 0.5     # Atenuación máxima en banda de paso [dB]\n",
        "As = 20      # Atenuación mínima en banda de rechazo [dB]\n",
        "\n",
        "# === 1. Diseño del filtro analógico (sin prewarping) ===\n",
        "b_analog, a_analog, orden, wn = diseñar_filtro_analogico(fp, fb, Ap, As)\n",
        "print(f\"Orden del filtro analógico: {orden}\")\n",
        "print(f\"Frecuencia de corte analógica: {wn:.2f} rad/s ({wn / (2 * np.pi):.2f} Hz)\")\n",
        "\n",
        "# === 2. Transformaciones digitales ===\n",
        "bz_bilin, az_bilin = transformar_bilineal(b_analog, a_analog, fs)\n",
        "bz_invar, az_invar = transformar_invarianza(b_analog, a_analog, fs)\n",
        "\n",
        "# === 3. Obtener frecuencias digitales equivalentes (solo útil para bilineal) ===\n",
        "wp = 2 * np.pi * fp\n",
        "ws = 2 * np.pi * fb\n",
        "fp_bilin, fb_bilin = calcular_frecuencias_digitales_warp(wp, ws, fs)\n"
      ],
      "metadata": {
        "id": "01EkEZ20UBTZ"
      },
      "execution_count": null,
      "outputs": []
    },
    {
      "cell_type": "code",
      "source": [
        "def graficar_respuesta_frecuencia_comparada(b, a, bz, az, fs, fp, fs_rechazo, metodo=\"\"):\n",
        "    \"\"\"\n",
        "    Compara la respuesta en frecuencia (dB) del filtro analógico y su versión digital.\n",
        "\n",
        "    Parámetros:\n",
        "    - b, a: coeficientes del filtro analógico.\n",
        "    - bz, az: coeficientes del filtro digital.\n",
        "    - fs: frecuencia de muestreo (Hz).\n",
        "    - fp: frecuencia de paso digital (Hz).\n",
        "    - fs_rechazo: frecuencia de rechazo digital (Hz).\n",
        "    - metodo: nombre del método digital (\"Bilineal\", \"Invarianza\", etc.)\n",
        "    \"\"\"\n",
        "    w_analog = np.linspace(0.01, fs * np.pi, 1000)\n",
        "    frecs_analog = w_analog / (2 * np.pi)\n",
        "    _, h_analog = freqs(b, a, w_analog)\n",
        "    h_analog_db = 20 * np.log10(np.abs(h_analog))\n",
        "\n",
        "    w_digital, h_digital = freqz(bz, az, worN=1024)\n",
        "    frecs_digital = w_digital * fs / (2 * np.pi)\n",
        "    h_digital_db = 20 * np.log10(np.abs(h_digital))\n",
        "\n",
        "    plt.figure(figsize=(12, 5))\n",
        "    plt.plot(frecs_analog, h_analog_db, label=\"Filtro Analógico\", linewidth=2)\n",
        "    plt.plot(frecs_digital, h_digital_db, '--', label=f\"Filtro Digital ({metodo})\", linewidth=2)\n",
        "\n",
        "    # Líneas de referencia para frecuencias de paso y rechazo\n",
        "    for fpi in np.atleast_1d(fp):\n",
        "        plt.axvline(fpi, color=\"green\", linestyle=\":\", label=f\"fp ≈ {fpi:.2f} Hz\")\n",
        "    for fsi in np.atleast_1d(fs_rechazo):\n",
        "        plt.axvline(fsi, color=\"red\", linestyle=\":\", label=f\"fs ≈ {fsi:.2f} Hz\")\n",
        "\n",
        "    plt.title(f\"Comparación: Filtro Analógico vs. Digital ({metodo})\")\n",
        "    plt.xlabel(\"Frecuencia [Hz]\")\n",
        "    plt.ylabel(\"Magnitud [dB]\")\n",
        "    plt.grid(True)\n",
        "    plt.xlim(0, fs / 2)\n",
        "    plt.ylim(-60, 5)\n",
        "    plt.legend()\n",
        "    plt.tight_layout()\n",
        "    plt.show()\n"
      ],
      "metadata": {
        "id": "RSf8dcrAUNZ-"
      },
      "execution_count": null,
      "outputs": []
    },
    {
      "cell_type": "code",
      "source": [
        "# === 4. Comparar respuesta en frecuencia de ambos métodos ===\n",
        "graficar_respuesta_frecuencia_comparada(\n",
        "    b_analog, a_analog,\n",
        "    bz_bilin, az_bilin,\n",
        "    fs,\n",
        "    fp=fp_bilin,\n",
        "    fs_rechazo=fb_bilin,\n",
        "    metodo=\"Bilineal\"\n",
        ")\n",
        "\n",
        "graficar_respuesta_frecuencia_comparada(\n",
        "    b_analog, a_analog,\n",
        "    bz_invar, az_invar,\n",
        "    fs,\n",
        "    fp=fp,     # No hay prewarping en invarianza\n",
        "    fs_rechazo=fb,\n",
        "    metodo=\"Invarianza al Impulso\"\n",
        ")\n"
      ],
      "metadata": {
        "id": "FsbZZeP3URKf"
      },
      "execution_count": null,
      "outputs": []
    },
    {
      "cell_type": "code",
      "source": [
        "def graficar_polos_ceros_digitales_separados(bz1, az1, bz2, az2, metodo1=\"Método 1\", metodo2=\"Método 2\"):\n",
        "    \"\"\"\n",
        "    Grafica los diagramas de polos y ceros en el plano Z de dos filtros digitales.\n",
        "\n",
        "    Parámetros:\n",
        "    - bz1, az1: coeficientes del primer filtro digital\n",
        "    - bz2, az2: coeficientes del segundo filtro digital\n",
        "    - metodo1, metodo2: etiquetas para cada filtro\n",
        "    \"\"\"\n",
        "    z1, p1, _ = tf2zpk(bz1, az1)\n",
        "    z2, p2, _ = tf2zpk(bz2, az2)\n",
        "\n",
        "    fig, axs = plt.subplots(1, 2, figsize=(12, 6))\n",
        "\n",
        "    for ax, z, p, metodo in zip(axs, [z1, z2], [p1, p2], [metodo1, metodo2]):\n",
        "        ax.scatter(np.real(z), np.imag(z), marker='o', facecolors='none', edgecolors='tab:blue', label='Ceros')\n",
        "        ax.scatter(np.real(p), np.imag(p), marker='x', color='tab:red', label='Polos')\n",
        "\n",
        "        # Circunferencia unidad\n",
        "        theta = np.linspace(0, 2 * np.pi, 400)\n",
        "        ax.plot(np.cos(theta), np.sin(theta), 'k--', linewidth=1, label='Unidad')\n",
        "\n",
        "        ax.axhline(0, color='gray', linewidth=0.5)\n",
        "        ax.axvline(0, color='gray', linewidth=0.5)\n",
        "        ax.set_title(f\"Plano Z - {metodo}\")\n",
        "        ax.set_xlabel(\"Re\")\n",
        "        ax.set_ylabel(\"Im\")\n",
        "        ax.grid(True)\n",
        "        ax.set_aspect('equal')\n",
        "        ax.set_xlim(-1.5, 1.5)\n",
        "        ax.set_ylim(-1.5, 1.5)\n",
        "        ax.legend()\n",
        "\n",
        "    plt.tight_layout()\n",
        "    plt.show()\n",
        ""
      ],
      "metadata": {
        "id": "dUjF-7gUUeAf"
      },
      "execution_count": null,
      "outputs": []
    },
    {
      "cell_type": "code",
      "source": [
        "graficar_polos_ceros_digitales_separados(\n",
        "    bz_invar, az_invar,\n",
        "    bz_bilin, az_bilin,\n",
        "    metodo1=\"Invarianza al Impulso\",\n",
        "    metodo2=\"Bilineal\"\n",
        ")\n"
      ],
      "metadata": {
        "id": "ZFSEGXwTUhG0"
      },
      "execution_count": null,
      "outputs": []
    },
    {
      "cell_type": "code",
      "source": [
        "def graficar_ciclo_filtrado(senales, bz, az, fs, metodo=\"\"):\n",
        "    \"\"\"\n",
        "    Aplica el filtro digital (bz, az) a cada señal y grafica un ciclo PQRST comparando\n",
        "    señal original vs señal filtrada.\n",
        "\n",
        "    Parámetros:\n",
        "    - senales: lista de señales ECG\n",
        "    - bz, az: coeficientes del filtro digital\n",
        "    - fs: frecuencia de muestreo en Hz\n",
        "    - metodo: nombre del método digital (para el título)\n",
        "    \"\"\"\n",
        "    for i, senal in enumerate(senales, 1):\n",
        "        salida = lfilter(bz, az, senal)\n",
        "\n",
        "        altura_minima = 0.5 * (np.max(senal) - np.min(senal)) + np.min(senal)\n",
        "        distancia_minima = int(0.25 * fs)\n",
        "        picos, _ = find_peaks(senal, height=altura_minima, distance=distancia_minima)\n",
        "\n",
        "        if len(picos) == 0:\n",
        "            print(f\"No se detectaron picos R en la señal {i}.\")\n",
        "            continue\n",
        "\n",
        "        centro = picos[0]\n",
        "        pre = int(0.2 * fs)\n",
        "        post = int(0.4 * fs)\n",
        "        inicio = max(0, centro - pre)\n",
        "        fin = min(len(senal), centro + post)\n",
        "        tiempo = np.arange(inicio, fin) / fs\n",
        "\n",
        "        plt.figure(figsize=(14, 4))\n",
        "        plt.plot(tiempo, senal[inicio:fin], label=\"Original\", alpha=0.7)\n",
        "        plt.plot(tiempo, salida[inicio:fin], label=f\"Filtrada ({metodo})\", alpha=0.8)\n",
        "        plt.title(f\"Señal ECG {i}: Original vs Filtrada ({metodo})\")\n",
        "        plt.xlabel(\"Tiempo [s]\")\n",
        "        plt.ylabel(\"Amplitud [mV]\")\n",
        "        plt.grid(True)\n",
        "        plt.legend()\n",
        "        plt.tight_layout()\n",
        "        plt.show()\n"
      ],
      "metadata": {
        "id": "ZSj9NzIAUpYK"
      },
      "execution_count": null,
      "outputs": []
    },
    {
      "cell_type": "code",
      "source": [
        "# === Aplicación de filtro bilineal a señales ===\n",
        "senales_filtradas_bilin = [lfilter(bz_bilin, az_bilin, s) for s in senales]\n",
        "\n",
        "# === Aplicación de filtro por invarianza ===\n",
        "senales_filtradas_invar = [lfilter(bz_invar, az_invar, s) for s in senales]\n",
        "\n",
        "# === Visualización de un ciclo filtrado ===\n",
        "graficar_ciclo_filtrado(senales, bz_bilin, az_bilin, fs, metodo=\"Bilineal\")\n",
        "graficar_ciclo_filtrado(senales, bz_invar, az_invar, fs, metodo=\"Invarianza al Impulso\")\n"
      ],
      "metadata": {
        "id": "XgNBdwz1UrzN"
      },
      "execution_count": null,
      "outputs": []
    },
    {
      "cell_type": "code",
      "source": [
        "def graficar_fft_comparativa(senales, senales_filtradas, fs, fmax=None, metodo=\"\"):\n",
        "    \"\"\"\n",
        "    Grafica el espectro de magnitud (en dB) de cada señal original y su versión filtrada.\n",
        "\n",
        "    Parámetros:\n",
        "    - senales: lista de señales originales\n",
        "    - senales_filtradas: lista de señales filtradas\n",
        "    - fs: frecuencia de muestreo (Hz)\n",
        "    - fmax: frecuencia máxima a mostrar (Hz)\n",
        "    - metodo: nombre del método del filtro (para el título)\n",
        "    \"\"\"\n",
        "    for i, (senal, salida) in enumerate(zip(senales, senales_filtradas), 1):\n",
        "        N = len(senal)\n",
        "        espectro_orig = fft(senal)\n",
        "        espectro_filt = fft(salida)\n",
        "        frecs = fftfreq(N, 1 / fs)\n",
        "        idx = frecs > 0\n",
        "        frecs = frecs[idx]\n",
        "\n",
        "        espectro_orig_db = 20 * np.log10(np.abs(espectro_orig[idx]) + 1e-12)\n",
        "        espectro_filt_db = 20 * np.log10(np.abs(espectro_filt[idx]) + 1e-12)\n",
        "\n",
        "        if fmax is None:\n",
        "            fmax = fs / 2\n",
        "\n",
        "        # Tomar el mayor valor entre ambos espectros para escalar el eje Y\n",
        "        ymax = max(np.max(espectro_orig_db), np.max(espectro_filt_db))\n",
        "        ymin = ymax - 80\n",
        "\n",
        "        plt.figure(figsize=(14, 4))\n",
        "\n",
        "        # Espectro original\n",
        "        plt.subplot(1, 2, 1)\n",
        "        plt.plot(frecs, espectro_orig_db, linewidth=1, label=\"Original\", color=\"tab:blue\")\n",
        "        plt.title(f\"ECG {i} - Original\")\n",
        "        plt.xlabel(\"Frecuencia [Hz]\")\n",
        "        plt.ylabel(\"Magnitud [dB]\")\n",
        "        plt.grid(True)\n",
        "        plt.xlim(0, fmax)\n",
        "        plt.ylim(ymin, ymax + 5)\n",
        "        plt.legend()\n",
        "\n",
        "        # Espectro filtrado\n",
        "        plt.subplot(1, 2, 2)\n",
        "        plt.plot(frecs, espectro_filt_db, linewidth=1, label=f\"Filtrada ({metodo})\", color=\"tab:orange\")\n",
        "        plt.title(f\"ECG {i} - Filtrada ({metodo})\")\n",
        "        plt.xlabel(\"Frecuencia [Hz]\")\n",
        "        plt.grid(True)\n",
        "        plt.xlim(0, fmax)\n",
        "        plt.ylim(ymin, ymax + 5)\n",
        "        plt.legend()\n",
        "\n",
        "        plt.tight_layout()\n",
        "        plt.show()\n"
      ],
      "metadata": {
        "id": "_455jLoYVD9F"
      },
      "execution_count": null,
      "outputs": []
    },
    {
      "cell_type": "code",
      "source": [
        "graficar_fft_comparativa(\n",
        "    senales,\n",
        "    senales_filtradas_bilin,\n",
        "    fs,\n",
        "    fmax=180,\n",
        "    metodo=\"Bilineal\"\n",
        ")\n",
        "\n",
        "graficar_fft_comparativa(\n",
        "    senales,\n",
        "    senales_filtradas_invar,\n",
        "    fs,\n",
        "    fmax=180,\n",
        "    metodo=\"Invarianza al Impulso\"\n",
        ")\n"
      ],
      "metadata": {
        "id": "NjUp_3LoVF76"
      },
      "execution_count": null,
      "outputs": []
    },
    {
      "cell_type": "code",
      "source": [
        "def graficar_fase_en_columnas(senales, senales_filtradas_invar, senales_filtradas_bilin, fs, fmax=None):\n",
        "    \"\"\"\n",
        "    Grafica la fase espectral (en radianes) para:\n",
        "      - Señal original,\n",
        "      - Señal filtrada con invarianza,\n",
        "      - Señal filtrada con bilineal.\n",
        "\n",
        "    Cada señal se presenta en una figura con tres subgráficos (una columna por método).\n",
        "    \"\"\"\n",
        "    for i, (x, y_invar, y_bilin) in enumerate(zip(senales, senales_filtradas_invar, senales_filtradas_bilin), 1):\n",
        "        N = len(x)\n",
        "\n",
        "        X = fft(x)\n",
        "        Y_invar = fft(y_invar)\n",
        "        Y_bilin = fft(y_bilin)\n",
        "\n",
        "        frecs = fftfreq(N, 1/fs)\n",
        "        idx_pos = frecs > 0\n",
        "        frecs = frecs[idx_pos]\n",
        "        X = X[idx_pos]\n",
        "        Y_invar = Y_invar[idx_pos]\n",
        "        Y_bilin = Y_bilin[idx_pos]\n",
        "\n",
        "        fase_X = np.unwrap(np.angle(X))\n",
        "        fase_invar = np.unwrap(np.angle(Y_invar))\n",
        "        fase_bilin = np.unwrap(np.angle(Y_bilin))\n",
        "\n",
        "        if fmax is not None:\n",
        "            idx_limit = frecs <= fmax\n",
        "            frecs = frecs[idx_limit]\n",
        "            fase_X = fase_X[idx_limit]\n",
        "            fase_invar = fase_invar[idx_limit]\n",
        "            fase_bilin = fase_bilin[idx_limit]\n",
        "\n",
        "        plt.figure(figsize=(18, 4))\n",
        "\n",
        "        plt.subplot(1, 3, 1)\n",
        "        plt.plot(frecs, fase_X, color=\"tab:blue\")\n",
        "        plt.title(f\"ECG {i} - Fase Original\")\n",
        "        plt.xlabel(\"Frecuencia [Hz]\")\n",
        "        plt.ylabel(\"Fase [rad]\")\n",
        "        plt.grid(True)\n",
        "        plt.xlim(0, fmax or fs/2)\n",
        "\n",
        "        plt.subplot(1, 3, 2)\n",
        "        plt.plot(frecs, fase_invar, color=\"tab:orange\")\n",
        "        plt.title(f\"ECG {i} - Fase Invarianza\")\n",
        "        plt.xlabel(\"Frecuencia [Hz]\")\n",
        "        plt.grid(True)\n",
        "        plt.xlim(0, fmax or fs/2)\n",
        "\n",
        "        plt.subplot(1, 3, 3)\n",
        "        plt.plot(frecs, fase_bilin, color=\"tab:green\")\n",
        "        plt.title(f\"ECG {i} - Fase Bilineal\")\n",
        "        plt.xlabel(\"Frecuencia [Hz]\")\n",
        "        plt.grid(True)\n",
        "        plt.xlim(0, fmax or fs/2)\n",
        "\n",
        "        plt.tight_layout()\n",
        "        plt.show()\n"
      ],
      "metadata": {
        "id": "Z6YfGqBOXiUz"
      },
      "execution_count": null,
      "outputs": []
    },
    {
      "cell_type": "code",
      "source": [
        "graficar_fase_en_columnas(\n",
        "    senales,\n",
        "    senales_filtradas_invar,\n",
        "    senales_filtradas_bilin,\n",
        "    fs,\n",
        "    fmax=180\n",
        ")\n"
      ],
      "metadata": {
        "id": "Swpx7RJ5XktB"
      },
      "execution_count": null,
      "outputs": []
    },
    {
      "cell_type": "code",
      "source": [
        "def graficar_respuesta_impulso(bz1, az1, bz2, az2, fs, N=100, metodo1=\"Invarianza\", metodo2=\"Bilineal\"):\n",
        "    \"\"\"\n",
        "    Grafica la respuesta al impulso de dos sistemas (IIR) en una misma figura.\n",
        "\n",
        "    Parámetros:\n",
        "    - bz1, az1: coeficientes del filtro 1\n",
        "    - bz2, az2: coeficientes del filtro 2\n",
        "    - fs: frecuencia de muestreo\n",
        "    - N: cantidad de muestras de la respuesta\n",
        "    - metodo1, metodo2: etiquetas para los métodos\n",
        "    \"\"\"\n",
        "    impulso = np.zeros(N)\n",
        "    impulso[0] = 1  # delta discreta\n",
        "\n",
        "    h1 = lfilter(bz1, az1, impulso)\n",
        "    h2 = lfilter(bz2, az2, impulso)\n",
        "    tiempo = np.arange(N) / fs\n",
        "\n",
        "    plt.figure(figsize=(12, 4))\n",
        "    plt.plot(tiempo, h1, label=f\"Respuesta impulso - {metodo1}\", color=\"tab:blue\")\n",
        "    plt.plot(tiempo, h2, label=f\"Respuesta impulso - {metodo2}\", color=\"tab:orange\")\n",
        "    plt.title(\"Respuesta al impulso unitario\")\n",
        "    plt.xlabel(\"Tiempo [s]\")\n",
        "    plt.ylabel(\"Amplitud\")\n",
        "    plt.grid(True)\n",
        "    plt.legend()\n",
        "    plt.tight_layout()\n",
        "    plt.show()\n"
      ],
      "metadata": {
        "id": "uYaqdyy4YVDO"
      },
      "execution_count": null,
      "outputs": []
    },
    {
      "cell_type": "code",
      "source": [
        "graficar_respuesta_impulso(\n",
        "    bz_invar, az_invar,\n",
        "    bz_bilin, az_bilin,\n",
        "    fs,\n",
        "    N=100,\n",
        "    metodo1=\"Invarianza\",\n",
        "    metodo2=\"Bilineal\"\n",
        ")\n"
      ],
      "metadata": {
        "id": "TE6lPCzcYWis"
      },
      "execution_count": null,
      "outputs": []
    },
    {
      "cell_type": "markdown",
      "source": [
        "DISEÑO FILTRO BLOQUEO BANDA"
      ],
      "metadata": {
        "id": "ML-Zb0x-ZK27"
      }
    },
    {
      "cell_type": "code",
      "source": [
        "# === PARÁMETROS DEL FILTRO BLOQUEO BANDA ===\n",
        "fs = 360                   # Frecuencia de muestreo (Hz)\n",
        "fp1, fp2 = 58, 62          # Frecuencias de paso (Hz)\n",
        "fs1, fs2 = 59, 61          # Frecuencias de bloqueo (Hz)\n",
        "Ap = 1                     # Atenuación máxima en banda de paso (dB)\n",
        "As = 20                    # Atenuación mínima en banda de rechazo (dB)\n",
        "\n",
        "# === 1. Prewarping y diseño del filtro analógico ===\n",
        "wp = [2 * fs * np.tan(np.pi * f / fs) for f in [fp1, fp2]]\n",
        "ws = [2 * fs * np.tan(np.pi * f / fs) for f in [fs1, fs2]]\n",
        "n, wn = buttord(wp, ws, Ap, As, analog=True)\n",
        "b_notch, a_notch = butter(n, wn, btype='bandstop', analog=True)\n",
        "\n",
        "print(f\"Orden del filtro analógico: {n}\")\n",
        "print(f\"Frecuencias de corte analógicas prewarpadas (Hz): {np.round(np.array(wn) / (2 * np.pi), 2)}\")\n"
      ],
      "metadata": {
        "id": "g55OXz9TZNTm"
      },
      "execution_count": null,
      "outputs": []
    },
    {
      "cell_type": "code",
      "source": [
        "# === 2. Transformación bilineal ===\n",
        "bz_notch, az_notch = bilinear(b_notch, a_notch, fs)\n",
        "\n",
        "# Calcular frecuencias digitales equivalentes\n",
        "fp_digital, fs_digital = calcular_frecuencias_digitales_warp(wp, ws, fs)\n"
      ],
      "metadata": {
        "id": "nq2sZnRuZSVV"
      },
      "execution_count": null,
      "outputs": []
    },
    {
      "cell_type": "code",
      "source": [
        "graficar_respuesta_frecuencia_comparada(\n",
        "    b_notch, a_notch,\n",
        "    bz_notch, az_notch,\n",
        "    fs,\n",
        "    fp=fp_digital,\n",
        "    fs_rechazo=fs_digital,\n",
        "    metodo=\"Bilineal (Notch)\"\n",
        ")\n"
      ],
      "metadata": {
        "id": "y_OFjFc7ZUZH"
      },
      "execution_count": null,
      "outputs": []
    },
    {
      "cell_type": "code",
      "source": [
        "senales_filtradas_notch = [lfilter(bz_notch, az_notch, s) for s in senales]\n",
        "\n",
        "graficar_ciclo_filtrado(\n",
        "    senales,\n",
        "    bz_notch, az_notch,\n",
        "    fs,\n",
        "    metodo=\"Bilineal (Notch)\"\n",
        ")\n"
      ],
      "metadata": {
        "id": "fc21RBAPZYQL"
      },
      "execution_count": null,
      "outputs": []
    },
    {
      "cell_type": "code",
      "source": [
        "graficar_fft_comparativa(\n",
        "    senales,\n",
        "    senales_filtradas_notch,\n",
        "    fs,\n",
        "    fmax=180,\n",
        "    metodo=\"Bilineal (Notch)\"\n",
        ")\n"
      ],
      "metadata": {
        "id": "_NKI_HHuZbQh"
      },
      "execution_count": null,
      "outputs": []
    },
    {
      "cell_type": "code",
      "source": [
        "graficar_fase_en_columnas(\n",
        "    senales,\n",
        "    senales_filtradas_notch,\n",
        "    senales_filtradas_notch,\n",
        "    fs,\n",
        "    fmax=180\n",
        ")\n"
      ],
      "metadata": {
        "id": "39u1P4XjZpJP"
      },
      "execution_count": null,
      "outputs": []
    },
    {
      "cell_type": "code",
      "source": [
        "graficar_polos_ceros_digitales_separados(\n",
        "    bz_notch, az_notch,\n",
        "    bz_notch, az_notch,\n",
        "    metodo1=\"Bilineal (Notch)\",\n",
        "    metodo2=\"(mismo filtro)\"\n",
        ")\n"
      ],
      "metadata": {
        "id": "F17Ofe8oZrZ2"
      },
      "execution_count": null,
      "outputs": []
    },
    {
      "cell_type": "code",
      "source": [
        "graficar_respuesta_impulso(\n",
        "    bz_notch, az_notch,\n",
        "    bz_notch, az_notch,\n",
        "    fs,\n",
        "    N=100,\n",
        "    metodo1=\"Bilineal (Notch)\",\n",
        "    metodo2=\"(mismo filtro)\"\n",
        ")\n"
      ],
      "metadata": {
        "id": "iK3tSM9wZ1j-"
      },
      "execution_count": null,
      "outputs": []
    },
    {
      "cell_type": "markdown",
      "source": [
        "IMPLEMENTACIÓN EN CASCADA"
      ],
      "metadata": {
        "id": "DhN3SbWmbZHM"
      }
    },
    {
      "cell_type": "code",
      "source": [
        "def celda_segundo_orden(xn, coef, estado):\n",
        "    b0, b1, b2, a1, a2 = coef\n",
        "    w1, w2 = estado\n",
        "    wn = xn - a1 * w1 - a2 * w2\n",
        "    yn = b0 * wn + b1 * w1 + b2 * w2\n",
        "    estado[1] = w1\n",
        "    estado[0] = wn\n",
        "    return yn\n",
        "\n",
        "def filtro_cascada(xn, celdas_coef, estados):\n",
        "    for i in range(len(celdas_coef)):\n",
        "        xn = celda_segundo_orden(xn, celdas_coef[i], estados[i])\n",
        "    return xn\n"
      ],
      "metadata": {
        "id": "v4xVSByIbbsT"
      },
      "execution_count": null,
      "outputs": []
    },
    {
      "cell_type": "code",
      "source": [
        "def procesar_senal(senal, celdas_coef):\n",
        "    estados = [[0.0, 0.0] for _ in celdas_coef]\n",
        "    salida = []\n",
        "\n",
        "    t0 = time.perf_counter()\n",
        "\n",
        "    for xn in senal:\n",
        "        yn = filtro_cascada(xn, celdas_coef, estados)\n",
        "        salida.append(yn)\n",
        "\n",
        "    t1 = time.perf_counter()\n",
        "\n",
        "    tiempo_total = t1 - t0\n",
        "    tiempo_por_muestra = tiempo_total / len(senal) * 1e6  # µs\n",
        "\n",
        "    return np.array(salida), tiempo_total, tiempo_por_muestra\n"
      ],
      "metadata": {
        "id": "g0kvkghYbhJD"
      },
      "execution_count": null,
      "outputs": []
    },
    {
      "cell_type": "code",
      "source": [
        "from scipy.signal import tf2sos\n",
        "\n",
        "# Pasa bajos con invarianza al impulso\n",
        "sos_pasa_invar = tf2sos(bz_invar, az_invar)\n",
        "celdas_invar = [(s[0], s[1], s[2], s[4], s[5]) for s in sos_pasa_invar]\n",
        "\n",
        "# Pasa bajos con bilineal\n",
        "sos_pasa_bilin = tf2sos(bz_bilin, az_bilin)\n",
        "celdas_bilin = [(s[0], s[1], s[2], s[4], s[5]) for s in sos_pasa_bilin]\n",
        "\n",
        "# Bloqueo banda bilineal\n",
        "sos_notch = tf2sos(bz_notch, az_notch)\n",
        "celdas_notch = [(s[0], s[1], s[2], s[4], s[5]) for s in sos_notch]\n"
      ],
      "metadata": {
        "id": "evtLI94cbiwc"
      },
      "execution_count": null,
      "outputs": []
    },
    {
      "cell_type": "code",
      "source": [
        "# Configuración 1: Invarianza al impulso + Notch\n",
        "cascada_invar_notch = celdas_invar + celdas_notch\n",
        "\n",
        "# Configuración 2: Bilineal + Notch\n",
        "cascada_bilin_notch = celdas_bilin + celdas_notch\n"
      ],
      "metadata": {
        "id": "0lyKGrJIbkrD"
      },
      "execution_count": null,
      "outputs": []
    },
    {
      "cell_type": "code",
      "source": [
        "from copy import deepcopy\n",
        "\n",
        "# Procesamiento\n",
        "senales_proc_invar_notch = [procesar_senal(s, deepcopy(cascada_invar_notch))[0] for s in senales]\n",
        "senales_proc_bilin_notch = [procesar_senal(s, deepcopy(cascada_bilin_notch))[0] for s in senales]\n"
      ],
      "metadata": {
        "id": "YWjecpkHbpPu"
      },
      "execution_count": null,
      "outputs": []
    },
    {
      "cell_type": "code",
      "source": [
        "def comparar_metodos_tiempo(\n",
        "    senales,\n",
        "    filtradas1,\n",
        "    filtradas2,\n",
        "    fs,\n",
        "    metodo1=\"Método 1\",\n",
        "    metodo2=\"Método 2\",\n",
        "    solo_filtradas=False\n",
        "):\n",
        "    \"\"\"\n",
        "    Compara visualmente las señales filtradas con dos métodos diferentes.\n",
        "\n",
        "    Parámetros:\n",
        "    - senales: lista de señales originales\n",
        "    - filtradas1: señales filtradas con el primer método\n",
        "    - filtradas2: señales filtradas con el segundo método\n",
        "    - fs: frecuencia de muestreo\n",
        "    - metodo1: nombre del primer método\n",
        "    - metodo2: nombre del segundo método\n",
        "    - solo_filtradas: si True, no muestra la señal original\n",
        "    \"\"\"\n",
        "    for i, (original, f1, f2) in enumerate(zip(senales, filtradas1, filtradas2), 1):\n",
        "        altura_minima = 0.5 * (np.max(original) - np.min(original)) + np.min(original)\n",
        "        distancia_minima = int(0.25 * fs)\n",
        "        picos, _ = find_peaks(original, height=altura_minima, distance=distancia_minima)\n",
        "\n",
        "        if len(picos) == 0:\n",
        "            print(f\"No se detectaron picos R en la señal {i}.\")\n",
        "            continue\n",
        "\n",
        "        centro = picos[0]\n",
        "        pre = int(0.2 * fs)\n",
        "        post = int(0.4 * fs)\n",
        "        inicio = max(0, centro - pre)\n",
        "        fin = min(len(original), centro + post)\n",
        "        tiempo = np.arange(inicio, fin) / fs\n",
        "\n",
        "        plt.figure(figsize=(14, 4))\n",
        "\n",
        "        # Izquierda\n",
        "        plt.subplot(1, 2, 1)\n",
        "        if not solo_filtradas:\n",
        "            plt.plot(tiempo, original[inicio:fin], label=\"Original\", alpha=0.6)\n",
        "        plt.plot(tiempo, f1[inicio:fin], label=f\"{metodo1}\", alpha=0.9)\n",
        "        plt.title(f\"ECG {i} - {metodo1}\")\n",
        "        plt.xlabel(\"Tiempo [s]\")\n",
        "        plt.ylabel(\"Amplitud [mV]\")\n",
        "        plt.grid(True)\n",
        "        plt.legend()\n",
        "\n",
        "        # Derecha\n",
        "        plt.subplot(1, 2, 2)\n",
        "        if not solo_filtradas:\n",
        "            plt.plot(tiempo, original[inicio:fin], label=\"Original\", alpha=0.6)\n",
        "        plt.plot(tiempo, f2[inicio:fin], label=f\"{metodo2}\", alpha=0.9)\n",
        "        plt.title(f\"ECG {i} - {metodo2}\")\n",
        "        plt.xlabel(\"Tiempo [s]\")\n",
        "        plt.grid(True)\n",
        "        plt.legend()\n",
        "\n",
        "        plt.tight_layout()\n",
        "        plt.show()\n"
      ],
      "metadata": {
        "id": "pbFIgkmDd5DH"
      },
      "execution_count": null,
      "outputs": []
    },
    {
      "cell_type": "code",
      "source": [
        "def comparar_fft_metodos(senales, filtradas_invar, filtradas_bilin, fs, fmax=None):\n",
        "    \"\"\"\n",
        "    Compara visualmente los espectros (en dB) de las señales originales, filtradas por invarianza y por bilineal.\n",
        "\n",
        "    Cada ECG se grafica con 3 espectros uno al lado del otro.\n",
        "    \"\"\"\n",
        "    if fmax is None:\n",
        "        fmax = fs / 2\n",
        "\n",
        "    for i, (x, y_invar, y_bilin) in enumerate(zip(senales, filtradas_invar, filtradas_bilin), 1):\n",
        "        N = len(x)\n",
        "        frecs = fftfreq(N, 1/fs)\n",
        "        idx_pos = frecs > 0\n",
        "        frecs = frecs[idx_pos]\n",
        "\n",
        "        X = fft(x)\n",
        "        Y_invar = fft(y_invar)\n",
        "        Y_bilin = fft(y_bilin)\n",
        "\n",
        "        X_db = 20 * np.log10(np.abs(X[idx_pos]) + 1e-12)\n",
        "        Y_invar_db = 20 * np.log10(np.abs(Y_invar[idx_pos]) + 1e-12)\n",
        "        Y_bilin_db = 20 * np.log10(np.abs(Y_bilin[idx_pos]) + 1e-12)\n",
        "\n",
        "        ymax = max(np.max(X_db), np.max(Y_invar_db), np.max(Y_bilin_db))\n",
        "        ymin = ymax - 80\n",
        "\n",
        "        plt.figure(figsize=(18, 4))\n",
        "        plt.subplot(1, 3, 1)\n",
        "        plt.plot(frecs, X_db, label=\"Original\", color=\"tab:blue\")\n",
        "        plt.title(f\"ECG {i} - Original\")\n",
        "        plt.xlabel(\"Frecuencia [Hz]\")\n",
        "        plt.ylabel(\"Magnitud [dB]\")\n",
        "        plt.grid(True)\n",
        "        plt.xlim(0, fmax)\n",
        "        plt.ylim(ymin, ymax + 5)\n",
        "        plt.legend()\n",
        "\n",
        "        plt.subplot(1, 3, 2)\n",
        "        plt.plot(frecs, Y_invar_db, label=\"Invarianza\", color=\"tab:orange\")\n",
        "        plt.title(f\"ECG {i} - Invarianza al impulso\")\n",
        "        plt.xlabel(\"Frecuencia [Hz]\")\n",
        "        plt.grid(True)\n",
        "        plt.xlim(0, fmax)\n",
        "        plt.ylim(ymin, ymax + 5)\n",
        "        plt.legend()\n",
        "\n",
        "        plt.subplot(1, 3, 3)\n",
        "        plt.plot(frecs, Y_bilin_db, label=\"Bilineal\", color=\"tab:green\")\n",
        "        plt.title(f\"ECG {i} - Bilineal\")\n",
        "        plt.xlabel(\"Frecuencia [Hz]\")\n",
        "        plt.grid(True)\n",
        "        plt.xlim(0, fmax)\n",
        "        plt.ylim(ymin, ymax + 5)\n",
        "        plt.legend()\n",
        "\n",
        "        plt.tight_layout()\n",
        "        plt.show()\n"
      ],
      "metadata": {
        "id": "WonvZi72d6uo"
      },
      "execution_count": null,
      "outputs": []
    },
    {
      "cell_type": "code",
      "source": [
        "comparar_metodos_tiempo(\n",
        "    senales,\n",
        "    senales_proc_invar_notch,\n",
        "    senales_proc_bilin_notch,\n",
        "    fs,\n",
        "    metodo1=\"Invarianza + Notch\",\n",
        "    metodo2=\"Bilineal + Notch\",\n",
        "    solo_filtradas=True\n",
        ")\n",
        "\n",
        "comparar_fft_metodos(\n",
        "    senales,\n",
        "    senales_proc_invar_notch,\n",
        "    senales_proc_bilin_notch,\n",
        "    fs,\n",
        "    fmax=180\n",
        ")\n"
      ],
      "metadata": {
        "id": "zQIIS1aKbsCx"
      },
      "execution_count": null,
      "outputs": []
    }
  ]
}